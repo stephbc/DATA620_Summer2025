{
 "cells": [
  {
   "cell_type": "markdown",
   "id": "96ee67dc",
   "metadata": {},
   "source": [
    "### Stephanie Chiang\n",
    "### DATA 620\n",
    "### Summer 2025\n",
    "\n",
    "## Assignment Week 2 Part 1: Graph Visualization"
   ]
  },
  {
   "cell_type": "markdown",
   "id": "43df6a4c",
   "metadata": {},
   "source": [
    "1. Load a graph database of your choosing from a text file or other source. If you take a\n",
    "large network dataset from the web (such as from https://snap.stanford.edu/data/), please\n",
    "feel free at this point to load just a small subset of the nodes and edges.\n",
    "\n",
    "## Importing the Dataset\n",
    "\n",
    "https://snap.stanford.edu/data/congress-twitter.html\n",
    "\"This network represents the Twitter interaction network for the 117th United States Congress, both House of Representatives and Senate. The base data was collected via the Twitter’s API, then the empirical transmission probabilities were quantified according to the fraction of times one member retweeted, quote tweeted, replied to, or mentioned another member’s tweet.\""
   ]
  },
  {
   "cell_type": "code",
   "execution_count": null,
   "id": "ed09253a",
   "metadata": {},
   "outputs": [
    {
     "name": "stdout",
     "output_type": "stream",
     "text": [
      "Graph with 475 nodes and 10222 edges\n",
      "Nodes:  475\n",
      "Edges:  10222\n"
     ]
    }
   ],
   "source": [
    "import networkx as nx\n",
    "import matplotlib.pyplot as plt\n",
    "\n",
    "# Path to the downloaded file (adjust the path as needed)\n",
    "file_path = \"facebook_combined.txt\"\n",
    "\n",
    "# Read the graph as an edge list\n",
    "G = nx.read_edgelist(\"congress.edgelist\", create_using = nx.Graph())\n",
    "\n",
    "# Print basic info\n",
    "print(G)"
   ]
  },
  {
   "cell_type": "markdown",
   "id": "0052ce7c",
   "metadata": {},
   "source": [
    "2. Create basic analysis on the graph, including the graph’s diameter, and at least one other\n",
    "metric of your choosing. You may either code the functions by hand (to build your\n",
    "intuition and insight), or use functions in an existing package.\n",
    "\n",
    "## Analysis"
   ]
  },
  {
   "cell_type": "code",
   "execution_count": null,
   "id": "27353390",
   "metadata": {},
   "outputs": [],
   "source": []
  },
  {
   "cell_type": "markdown",
   "id": "f11e66de",
   "metadata": {},
   "source": [
    "\n",
    "3. Use a visualization tool of your choice to display information. Use NetworkX directly.\n",
    "\n",
    "## Visualizing the Graph\n"
   ]
  },
  {
   "cell_type": "code",
   "execution_count": null,
   "id": "e7ff98cd",
   "metadata": {},
   "outputs": [],
   "source": [
    "\n",
    "# isualize a small portion\n",
    "subgraph = G.subgraph(list(G.nodes)[:50])  # visualize a subset\n",
    "nx.draw(subgraph, with_labels = True, node_size=30)\n",
    "plt.show()"
   ]
  },
  {
   "cell_type": "markdown",
   "id": "4dd8b37c",
   "metadata": {},
   "source": [
    "\n",
    "\n",
    "\n",
    "4. Please record a short video (~ 5 minutes), and submit a link to the video as part of your\n",
    "homework submission. Put your notebook in GitHub and submit your assignment link by end of day on Sunday."
   ]
  }
 ],
 "metadata": {
  "kernelspec": {
   "display_name": ".venv",
   "language": "python",
   "name": "python3"
  },
  "language_info": {
   "codemirror_mode": {
    "name": "ipython",
    "version": 3
   },
   "file_extension": ".py",
   "mimetype": "text/x-python",
   "name": "python",
   "nbconvert_exporter": "python",
   "pygments_lexer": "ipython3",
   "version": "3.9.6"
  }
 },
 "nbformat": 4,
 "nbformat_minor": 5
}
