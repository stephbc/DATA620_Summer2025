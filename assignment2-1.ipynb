{
 "cells": [
  {
   "cell_type": "markdown",
   "id": "96ee67dc",
   "metadata": {},
   "source": [
    "##### Stephanie Chiang\n",
    "##### DATA 620 Summer 2025\n",
    "\n",
    "## Assignment Week 2 Part 1:\n",
    "# Graph Visualization"
   ]
  },
  {
   "cell_type": "markdown",
   "id": "43df6a4c",
   "metadata": {},
   "source": [
    "1. Load a graph database of your choosing from a text file or other source. If you take a\n",
    "large network dataset from the web (such as from https://snap.stanford.edu/data/), please\n",
    "feel free at this point to load just a small subset of the nodes and edges.\n",
    "\n",
    "## Importing the Dataset\n",
    "\n",
    "https://snap.stanford.edu/data/congress-twitter.html\n",
    "\"This network represents the Twitter interaction network for the 117th United States Congress, both House of Representatives and Senate. The base data was collected via the Twitter’s API, then the empirical transmission probabilities were quantified according to the fraction of times one member retweeted, quote tweeted, replied to, or mentioned another member’s tweet.\""
   ]
  },
  {
   "cell_type": "code",
   "execution_count": null,
   "id": "ed09253a",
   "metadata": {},
   "outputs": [
    {
     "name": "stdout",
     "output_type": "stream",
     "text": [
      "['SenatorBaldwin', 'SenJohnBarrasso', 'SenatorBennet', 'MarshaBlackburn', 'SenBlumenthal', 'RoyBlunt', 'CoryBooker', 'JohnBoozman', 'SenatorBraun', 'SenSherrodBrown']\n",
      "Graph with 475 nodes and 10222 edges\n",
      "First 10 nodes: ['0', '4', '12', '18', '25', '30', '46', '55', '58', '59']\n",
      "Graph with 475 nodes and 10222 edges\n",
      "First 10 nodes: ['SenatorBaldwin', 'SenBlumenthal', 'SenatorCardin', 'SenCortezMasto', 'SenatorDurbin', 'LindseyGrahamSC', 'SenAmyKlobuchar', 'SenJeffMerkley', 'ChrisMurphyCT', 'PattyMurray']\n"
     ]
    }
   ],
   "source": [
    "import networkx as nx\n",
    "import matplotlib.pyplot as plt\n",
    "\n",
    "# Helper function to read node data from a JSON file\n",
    "def read_json_value(file_path):\n",
    "    import json\n",
    "    with open(file_path, 'r') as file:\n",
    "        data = json.load(file)\n",
    "    return data\n",
    "\n",
    "# Per README, the usernameList[i] gives the Twitter username corresponding to each node i\n",
    "cnd = read_json_value(\"congress_network_data.json\")[0]\n",
    "usernameList = cnd[\"usernameList\"]\n",
    "# print(usernameList[:10])\n",
    "\n",
    "# Read the edgelist from the file and create a graph\n",
    "G = nx.read_edgelist(\"congress.edgelist\", create_using = nx.Graph())\n",
    "\n",
    "# Print graph info\n",
    "print(G)\n",
    "print(\"First 10 nodes:\", list(G.nodes())[:10])\n",
    "\n",
    "# Replace anonymized node labels with Twitter handles from usernameList\n",
    "for i in range(len(usernameList)):\n",
    "    if usernameList[i] is not None:\n",
    "        G = nx.relabel_nodes(G, {str(i): usernameList[i]})\n",
    "\n",
    "# Print updated graph info\n",
    "print(\"First 10 nodes:\", list(G.nodes())[:10])"
   ]
  },
  {
   "cell_type": "markdown",
   "id": "652b037c",
   "metadata": {},
   "source": [
    "## Basic EDA"
   ]
  },
  {
   "cell_type": "code",
   "execution_count": null,
   "id": "4b1c3e2f",
   "metadata": {},
   "outputs": [],
   "source": []
  },
  {
   "cell_type": "markdown",
   "id": "0052ce7c",
   "metadata": {},
   "source": [
    "2. Create basic analysis on the graph, including the graph’s diameter, and at least one other\n",
    "metric of your choosing. You may either code the functions by hand (to build your\n",
    "intuition and insight), or use functions in an existing package.\n",
    "\n",
    "## Analysis"
   ]
  },
  {
   "cell_type": "code",
   "execution_count": null,
   "id": "27353390",
   "metadata": {},
   "outputs": [],
   "source": [
    "# Calculate the diameter of the graph\n",
    "diameter = nx.diameter(G)\n",
    "print(f\"Diameter of the graph: {diameter}\")\n",
    "\n",
    "# Calculate the density of the graph\n",
    "density = nx.density(G)\n",
    "print(f\"Density of the graph: {density}\")\n",
    "\n",
    "# Centrality measures\n",
    "degree_centrality = nx.degree_centrality(G)\n",
    "print(\"Degree Centrality:\")\n",
    "\n",
    "# Top 10 nodes by degree centrality\n",
    "top_degree_centrality = sorted(degree_centrality.items(), key=lambda x: x[1], reverse=True)[:10]\n",
    "for node, centrality in top_degree_centrality:\n",
    "    print(f\"Node {node}: {centrality:.4f}\")\n",
    "# Draw the graph\n",
    "plt.figure(figsize=(12, 12))\n",
    "nx.draw(G, with_labels=True, node_size=50, font_size=8)\n",
    "plt.title(\"Congress Graph\")\n",
    "plt.show()"
   ]
  },
  {
   "cell_type": "markdown",
   "id": "f11e66de",
   "metadata": {},
   "source": [
    "\n",
    "3. Use a visualization tool of your choice to display information. Use NetworkX directly.\n",
    "\n",
    "## Visualizing the Graph\n"
   ]
  },
  {
   "cell_type": "code",
   "execution_count": null,
   "id": "e7ff98cd",
   "metadata": {},
   "outputs": [],
   "source": [
    "\n",
    "# isualize a small portion\n",
    "subgraph = G.subgraph(list(G.nodes)[:50])  # visualize a subset\n",
    "nx.draw(subgraph, with_labels = True, node_size=30)\n",
    "plt.show()"
   ]
  },
  {
   "cell_type": "markdown",
   "id": "4dd8b37c",
   "metadata": {},
   "source": [
    "\n",
    "\n",
    "\n",
    "4. Please record a short video (~ 5 minutes), and submit a link to the video as part of your\n",
    "homework submission. Put your notebook in GitHub and submit your assignment link by end of day on Sunday."
   ]
  }
 ],
 "metadata": {
  "kernelspec": {
   "display_name": ".venv",
   "language": "python",
   "name": "python3"
  },
  "language_info": {
   "codemirror_mode": {
    "name": "ipython",
    "version": 3
   },
   "file_extension": ".py",
   "mimetype": "text/x-python",
   "name": "python",
   "nbconvert_exporter": "python",
   "pygments_lexer": "ipython3",
   "version": "3.9.6"
  }
 },
 "nbformat": 4,
 "nbformat_minor": 5
}
