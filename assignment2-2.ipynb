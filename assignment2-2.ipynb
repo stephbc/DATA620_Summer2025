{
 "cells": [
  {
   "cell_type": "markdown",
   "id": "ec253ea1",
   "metadata": {},
   "source": [
    "Stephanie Chiang  \n",
    "DATA 620 Summer 2025  \n",
    "### Assignment Week 2 Part 2:\n",
    "# Centrality Measures"
   ]
  },
  {
   "cell_type": "markdown",
   "id": "793b5dfd",
   "metadata": {},
   "source": [
    "To analyze and compare centrality measures across nodes, I have chosen to use a network dataset from [Kaggle](https://www.kaggle.com/datasets/sanketrai/twitter-mbti-dataset) that contains a subset of Twitter users who have self-reported their MBTI personality types. The nodes represent Twitter users, each including information like an ID and their account name, as well as their MBTI type. This is a categorical variable with 16 possible levels. The edges represent follower relationships between users.\n",
    "\n",
    "This analysis is planned to proceed as follows:\n",
    "1. Import and load the data: There are two CSV files of value here, one containing the user relationships (`edges.csv`) and the other containing node ID and MBTI label (`mbti_labels.csv`).\n",
    "2. Data cleaning and preparation: Check the data for missing values or duplicates and ensure that the data is in a suitable format for use with NetworkX.\n",
    "3. Network construction: Use NetworkX to create the graph where nodes represent Twitter users and edges represent follower relationships.\n",
    "4. Centrality Measures : Calculate the degree centrality for each node using NetworkX's `degree_centrality()` function. This will give us a measure of how connected each user is in the network, allowing for ranking or comparison between groups.\n",
    "5. Visualization: Use NetworkX and Matplotlib to visualize the degree centrality distributions across different MBTI types, which can help show if there is a relationship between personality type and social connectivity.\n",
    "\n",
    "**Hypothetical outcome**:\n",
    "\n",
    "This would allow us to explore the relationship between personality types and social connectivity on Twitter, and provide insights into how different personality traits may influence online interactions and relationships. For example, we might find that users with certain MBTI types (e.g., extroverted types like ENFP or ESFJ) have higher degree centrality, indicating they are more connected and have more followers compared to introverted types (e.g., ISTJ or INTJ). This could suggest that extroverted individuals are more active in building social networks on Twitter, while introverted individuals may prefer to maintain smaller, more intimate connections.\n"
   ]
  }
 ],
 "metadata": {
  "language_info": {
   "name": "python"
  }
 },
 "nbformat": 4,
 "nbformat_minor": 5
}
