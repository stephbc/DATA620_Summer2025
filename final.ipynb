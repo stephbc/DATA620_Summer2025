{
 "cells": [
  {
   "cell_type": "code",
   "execution_count": 21,
   "id": "46b4d8d1",
   "metadata": {},
   "outputs": [
    {
     "name": "stdout",
     "output_type": "stream",
     "text": [
      "Found 493 links.\n"
     ]
    }
   ],
   "source": [
    "import requests\n",
    "from bs4 import BeautifulSoup\n",
    "from urllib.parse import urljoin\n",
    "\n",
    "# Step 1: Get the main page table and parse\n",
    "base_url = \"https://www.tdcj.texas.gov\"\n",
    "table_url = urljoin(base_url, \"/death_row/dr_executed_offenders.html\")\n",
    "response = requests.get(table_url, verify=False)\n",
    "response.raise_for_status()\n",
    "soup = BeautifulSoup(response.text, \"html.parser\")\n",
    "\n",
    "# Step 2: Extract the links from the 3rd column and other relevant data\n",
    "links = []\n",
    "for row in soup.find_all(\"tr\"):\n",
    "    cells = row.find_all(\"td\")\n",
    "    if cells:\n",
    "        id = cells[0].get_text(strip=True)\n",
    "        last_name = cells[3].get_text(strip=True)\n",
    "        first_name = cells[4].get_text(strip=True)\n",
    "        age = cells[6].get_text(strip=True)\n",
    "        date = cells[7].get_text(strip=True)\n",
    "        race = cells[8].get_text(strip=True)\n",
    "\n",
    "        link_tag = cells[2].find(\"a\")\n",
    "        slug = link_tag.get(\"href\")\n",
    "\n",
    "        if \"no_last_statement\" in slug:\n",
    "            continue\n",
    "        if slug and not slug.startswith(\"/death_row/\"):\n",
    "            slug = \"/death_row/\" + slug\n",
    "        if link_tag and slug:\n",
    "            href = urljoin(base_url, slug)\n",
    "            links.append([id, last_name, first_name, age, date, race, href])\n",
    "\n",
    "print(f\"Found {len(links)} links.\")"
   ]
  },
  {
   "cell_type": "code",
   "execution_count": 22,
   "id": "036b47ab",
   "metadata": {},
   "outputs": [
    {
     "name": "stdout",
     "output_type": "stream",
     "text": [
      "Failed to scrape https://www.tdcj.texas.gov/death_row/dr_info/bibledannylast.html: list index out of range\n",
      "Scraped 492 rows.\n"
     ]
    }
   ],
   "source": [
    "# Step 3: Visit each link, parse and scrape data\n",
    "scraped_data = []\n",
    "\n",
    "for row in links:\n",
    "    url = row[-1]\n",
    "    try:\n",
    "        page_response = requests.get(url, verify=False)\n",
    "        page_response.raise_for_status()\n",
    "        page_soup = BeautifulSoup(page_response.text, \"html.parser\")\n",
    "\n",
    "        statement = page_soup.find_all(\"p\")[5].get_text(strip=True) if page_soup.find(\"p\") else \"No statement found\"\n",
    "\n",
    "        scraped_data.append(row + [statement])\n",
    "    \n",
    "    except Exception as e:\n",
    "        print(f\"Failed to scrape {url}: {e}\")\n",
    "\n",
    "print(f\"Scraped {len(scraped_data)} rows.\")"
   ]
  },
  {
   "cell_type": "markdown",
   "id": "f0faa16b",
   "metadata": {},
   "source": [
    "The above scraping step took about 2 minutes and resulted in only 1 error, due to a page layout issue. A quick check confirms there is no recorded statement for this person, so we can proceed without this row.\n",
    "\n",
    "Below, the data is recorded as a CSV before proceeding to analysis."
   ]
  },
  {
   "cell_type": "code",
   "execution_count": 24,
   "id": "f403644a",
   "metadata": {},
   "outputs": [
    {
     "name": "stdout",
     "output_type": "stream",
     "text": [
      "Scraped data saved to 'dr_scraped.csv'\n"
     ]
    }
   ],
   "source": [
    "import csv\n",
    "\n",
    "# Step 4: Save to CSV\n",
    "csv_filename = \"dr_scraped.csv\"\n",
    "\n",
    "with open(csv_filename, \"w\", newline=\"\", encoding=\"utf-8\") as csvfile:\n",
    "    writer = csv.writer(csvfile)\n",
    "    # Write header row\n",
    "    writer.writerow([\"Link Text\", \"Link URL\", \"Title\", \"First Paragraph\"])\n",
    "    # Write data rows\n",
    "    writer.writerows(scraped_data)\n",
    "\n",
    "print(f\"Scraped data saved to '{csv_filename}'\")"
   ]
  }
 ],
 "metadata": {
  "kernelspec": {
   "display_name": "base",
   "language": "python",
   "name": "python3"
  },
  "language_info": {
   "codemirror_mode": {
    "name": "ipython",
    "version": 3
   },
   "file_extension": ".py",
   "mimetype": "text/x-python",
   "name": "python",
   "nbconvert_exporter": "python",
   "pygments_lexer": "ipython3",
   "version": "3.12.7"
  }
 },
 "nbformat": 4,
 "nbformat_minor": 5
}
